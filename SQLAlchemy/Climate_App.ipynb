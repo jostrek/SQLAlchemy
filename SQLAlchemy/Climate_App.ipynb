{
 "cells": [
  {
   "cell_type": "code",
   "execution_count": 12,
   "metadata": {},
   "outputs": [],
   "source": [
    "import numpy as np\n",
    "import datetime as dt\n",
    "\n",
    "import sqlalchemy\n",
    "from sqlalchemy.ext.automap import automap_base\n",
    "from sqlalchemy.orm import Session\n",
    "from sqlalchemy import create_engine, func\n",
    "\n",
    "from flask import Flask, jsonify"
   ]
  },
  {
   "cell_type": "code",
   "execution_count": 13,
   "metadata": {},
   "outputs": [],
   "source": [
    "engine = create_engine(\"sqlite:///Resources/hawaii.sqlite\")"
   ]
  },
  {
   "cell_type": "code",
   "execution_count": 14,
   "metadata": {},
   "outputs": [],
   "source": [
    "Base = automap_base()\n",
    "# reflect the tables\n",
    "Base.prepare(engine, reflect=True)\n"
   ]
  },
  {
   "cell_type": "code",
   "execution_count": 15,
   "metadata": {},
   "outputs": [
    {
     "data": {
      "text/plain": [
       "['measurement', 'station']"
      ]
     },
     "execution_count": 15,
     "metadata": {},
     "output_type": "execute_result"
    }
   ],
   "source": [
    "Base.classes.keys()"
   ]
  },
  {
   "cell_type": "code",
   "execution_count": 16,
   "metadata": {},
   "outputs": [],
   "source": [
    "Measurement = Base.classes.measurement\n",
    "Station = Base.classes.station\n"
   ]
  },
  {
   "cell_type": "code",
   "execution_count": 17,
   "metadata": {},
   "outputs": [],
   "source": [
    "session = Session(engine)"
   ]
  },
  {
   "cell_type": "code",
   "execution_count": 18,
   "metadata": {},
   "outputs": [],
   "source": [
    "app = Flask(__name__)\n",
    "\n"
   ]
  },
  {
   "cell_type": "code",
   "execution_count": 19,
   "metadata": {},
   "outputs": [],
   "source": [
    "@app.route(\"/\")\n",
    "def welcome():\n",
    "    return (\n",
    "        f\"Welcome to the API<br/>\"\n",
    "        f\"Available Routes:<br/>\"\n",
    "        f\"/api/v1.0/precipitation<br/>\"\n",
    "        f\"/api/v1.0/precipitation/2010-01-24/0.01<br/>\"\n",
    "        f\"/api/v1.0/stations<br/>\"\n",
    "        f\"/api/v1.0/tobs<br/>\"\n",
    "        f\"/api/v1.0/2012-02-28<br/>\"\n",
    "        f\"/api/v1.0/2012-02-28/2012-03-05<br/>\"\n",
    "        f\"/api/v1.0/<start>/<end>\"\n",
    "    )"
   ]
  },
  {
   "cell_type": "code",
   "execution_count": 20,
   "metadata": {},
   "outputs": [],
   "source": [
    "@app.route(\"/api/v1.0/precipitation\")\n",
    "def precipitation():\n",
    "    results = (session\n",
    "        .query(Measurement.date,Measurement.prcp)\n",
    "        .filter(Measurement.prcp>=0)\n",
    "        .order_by(Measurement.date).all())\n",
    "        \n",
    "    all_prcps = []\n",
    "    for prcp in results:\n",
    "        prcp_dict = {}\n",
    "        prcp_dict[\"date\"] = prcp.date\n",
    "        prcp_dict[\"prcp\"] = prcp.prcp\n",
    "        all_prcps.append(prcp_dict)\n",
    "\n",
    "    return jsonify(all_prcps)"
   ]
  },
  {
   "cell_type": "code",
   "execution_count": 21,
   "metadata": {},
   "outputs": [],
   "source": [
    "@app.route(\"/api/v1.0/precipitation/<key>/<value>\")\n",
    "def precipitation_arbitrary_key(key, value):\n",
    "    #Convert the query results to a Dictionary \n",
    "    #using date as the key and prcp as the value.\n",
    "\n",
    "    results = (session\n",
    "        .query(Measurement.id,Measurement.date,Measurement.prcp,Measurement.tobs,Measurement.station)\n",
    "        .filter(Measurement.date==key)\n",
    "        .filter(Measurement.prcp==value)\n",
    "        .all())\n",
    "\n",
    "    all_measurements = []\n",
    "    for measurement in results:\n",
    "        measurement_dict = {}\n",
    "        measurement_dict[\"id\"] = measurement.id\n",
    "        measurement_dict[\"date\"] = measurement.date\n",
    "        measurement_dict[\"prcp\"] = measurement.prcp\n",
    "        measurement_dict[\"tobs\"] = measurement.tobs\n",
    "        measurement_dict[\"station\"] = measurement.station\n",
    "        all_measurements.append(measurement_dict)\n",
    "\n",
    "    return jsonify(all_measurements)"
   ]
  },
  {
   "cell_type": "code",
   "execution_count": 22,
   "metadata": {},
   "outputs": [],
   "source": [
    "@app.route(\"/api/v1.0/stations\")\n",
    "def station_list():\n",
    "    #Return a JSON list of stations from the dataset.\n",
    "\n",
    "    results = (session\n",
    "        .query(Station.id,Station.station, Station.name, Station.latitude, Station.longitude)\n",
    "        .all())\n",
    "\n",
    "    all_stations = []\n",
    "    for station in results:\n",
    "        station_dict = {}\n",
    "        station_dict[\"id\"] = station.id\n",
    "        station_dict[\"station\"] = station.station\n",
    "        station_dict[\"name\"] = station.name\n",
    "        station_dict[\"latitude\"] = station.latitude\n",
    "        station_dict[\"longitude\"] = station.longitude\n",
    "        all_stations.append(station_dict)\n",
    "\n",
    "    return jsonify(all_stations)\n"
   ]
  },
  {
   "cell_type": "code",
   "execution_count": 23,
   "metadata": {},
   "outputs": [],
   "source": [
    "@app.route(\"/api/v1.0/tobs\")\n",
    "def tob_year_ago():\n",
    "\n",
    "    #find a date, a year from the last data point.\n",
    "    query_latest_date = session.query(Measurement.date).order_by(Measurement.date.desc()).first()# latest Date\n",
    "    dt_latest_date = dt.datetime.strptime(query_latest_date[0], '%Y-%m-%d')# latest Date in datetime format\n",
    "    year_ago_date = dt_latest_date - dt.timedelta(days=365)\n",
    "\n",
    "    #query for the dates and temperature observations from a year from the last data point.\n",
    "    results = (session\n",
    "        .query(Measurement.date, Measurement.tobs)\n",
    "        .filter(Measurement.date > year_ago_date)\n",
    "        .order_by(Measurement.tobs).all())\n",
    "\n",
    "    #Return a JSON list of Temperature Observations (tobs) for the previous year.\n",
    "    all_tobs_year_ago = []\n",
    "    for tobs in results:\n",
    "        tobs_dict = {}\n",
    "        tobs_dict[\"date\"] = tobs.date\n",
    "        tobs_dict[\"tobs\"] = tobs.tobs\n",
    "        all_tobs_year_ago.append(tobs_dict)\n",
    "\n",
    "    return jsonify(all_tobs_year_ago)"
   ]
  },
  {
   "cell_type": "code",
   "execution_count": 24,
   "metadata": {},
   "outputs": [],
   "source": [
    "@app.route(\"/api/v1.0/<start>\")\n",
    "def temperature_stats_by_start_date(start):\n",
    "#When given the start only, calculate TMIN, TAVG, and TMAX \n",
    "# for all dates greater than and equal to the start date.\n",
    "    results  = session.query(func.min(Measurement.tobs), func.avg(Measurement.tobs), func.max(Measurement.tobs)).\\\n",
    "        filter(Measurement.date >= start).all()\n",
    "\n",
    "    all_tobs_summary = []\n",
    "    for tobs in results:\n",
    "        tobs_dict = {}\n",
    "        tobs_dict[\"tmin\"] = tobs[0]\n",
    "        tobs_dict[\"tavg\"] = tobs[1]\n",
    "        tobs_dict[\"tmax\"] = tobs[2]\n",
    "        all_tobs_summary.append(tobs_dict)\n",
    "\n",
    "    return jsonify(all_tobs_summary)\n"
   ]
  },
  {
   "cell_type": "code",
   "execution_count": 25,
   "metadata": {},
   "outputs": [],
   "source": [
    "@app.route(\"/api/v1.0/<start>/<end>\")\n",
    "def temperature_stats_by_date_range(start,end):\n",
    "#When given the start and the end date, calculate the TMIN, TAVG, and TMAX \n",
    "# for dates between the start and end date inclusive.\n",
    "     \n",
    "    results  = session.query(func.min(Measurement.tobs), func.avg(Measurement.tobs), func.max(Measurement.tobs)).\\\n",
    "        filter(Measurement.date >= start).filter(Measurement.date <= end).all()\n",
    "\n",
    "    all_tobs_summary = []\n",
    "    for tobs in results:\n",
    "        tobs_dict = {}\n",
    "        tobs_dict[\"tmin\"] = tobs[0]\n",
    "        tobs_dict[\"tavg\"] = tobs[1]\n",
    "        tobs_dict[\"tmax\"] = tobs[2]\n",
    "        all_tobs_summary.append(tobs_dict)\n",
    "\n",
    "    return jsonify(all_tobs_summary)\n",
    "  \n",
    "  "
   ]
  },
  {
   "cell_type": "code",
   "execution_count": 26,
   "metadata": {},
   "outputs": [
    {
     "name": "stdout",
     "output_type": "stream",
     "text": [
      " * Serving Flask app \"__main__\" (lazy loading)\n",
      " * Environment: production\n",
      "   WARNING: Do not use the development server in a production environment.\n",
      "   Use a production WSGI server instead.\n",
      " * Debug mode: on\n"
     ]
    },
    {
     "name": "stderr",
     "output_type": "stream",
     "text": [
      " * Restarting with stat\n"
     ]
    },
    {
     "ename": "SystemExit",
     "evalue": "1",
     "output_type": "error",
     "traceback": [
      "An exception has occurred, use %tb to see the full traceback.\n",
      "\u001b[1;31mSystemExit\u001b[0m\u001b[1;31m:\u001b[0m 1\n"
     ]
    },
    {
     "name": "stderr",
     "output_type": "stream",
     "text": [
      "C:\\Users\\ktrejo\\AppData\\Local\\Continuum\\anaconda3\\lib\\site-packages\\IPython\\core\\interactiveshell.py:2969: UserWarning: To exit: use 'exit', 'quit', or Ctrl-D.\n",
      "  warn(\"To exit: use 'exit', 'quit', or Ctrl-D.\", stacklevel=1)\n"
     ]
    }
   ],
   "source": [
    "# flask set up: Define main behavior\n",
    "if __name__ == \"__main__\":\n",
    "    app.run(debug=True)"
   ]
  },
  {
   "cell_type": "code",
   "execution_count": null,
   "metadata": {},
   "outputs": [],
   "source": []
  }
 ],
 "metadata": {
  "kernelspec": {
   "display_name": "Python 3",
   "language": "python",
   "name": "python3"
  },
  "language_info": {
   "codemirror_mode": {
    "name": "ipython",
    "version": 3
   },
   "file_extension": ".py",
   "mimetype": "text/x-python",
   "name": "python",
   "nbconvert_exporter": "python",
   "pygments_lexer": "ipython3",
   "version": "3.7.0"
  }
 },
 "nbformat": 4,
 "nbformat_minor": 2
}
